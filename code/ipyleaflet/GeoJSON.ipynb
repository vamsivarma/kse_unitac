{
 "cells": [
  {
   "cell_type": "code",
   "execution_count": 1,
   "metadata": {},
   "outputs": [],
   "source": [
    "from ipyleaflet import (\n",
    "    Map,\n",
    "    Marker,\n",
    "    TileLayer,\n",
    "    ImageOverlay,\n",
    "    Polyline,\n",
    "    Polygon,\n",
    "    Rectangle,\n",
    "    Circle,\n",
    "    CircleMarker,\n",
    "    GeoJSON,\n",
    "    DrawControl,\n",
    ")"
   ]
  },
  {
   "cell_type": "code",
   "execution_count": 2,
   "metadata": {},
   "outputs": [],
   "source": [
    "center = [34.6252978589571, -77.34580993652344]\n",
    "zoom = 10"
   ]
  },
  {
   "cell_type": "code",
   "execution_count": 3,
   "metadata": {},
   "outputs": [
    {
     "data": {
      "application/vnd.jupyter.widget-view+json": {
       "model_id": "594e135d041746348a6ccc40b703aebd",
       "version_major": 2,
       "version_minor": 0
      },
      "text/plain": [
       "Map(center=[34.6252978589571, -77.34580993652344], controls=(ZoomControl(options=['position', 'zoom_in_text', …"
      ]
     },
     "execution_count": 3,
     "metadata": {},
     "output_type": "execute_result"
    }
   ],
   "source": [
    "m = Map(center=center, zoom=zoom)\n",
    "m"
   ]
  },
  {
   "cell_type": "code",
   "execution_count": 4,
   "metadata": {},
   "outputs": [],
   "source": [
    "import matplotlib as mpl\n",
    "import matplotlib.cm\n",
    "import matplotlib.colors\n",
    "import numpy as np\n",
    "\n",
    "\n",
    "def n_colors(n, colormap=mpl.cm.Blues):\n",
    "    data = np.linspace(0.0, 1.0, n)\n",
    "    c = [mpl.colors.rgb2hex(d[0:3]) for d in colormap(data)]\n",
    "    return c\n",
    "\n",
    "\n",
    "def data_to_colors(data, colormap=mpl.cm.Blues):\n",
    "    c = [mpl.colors.rgb2hex(d[0:3]) for d in colormap(mpl.colors.Normalize()(data))]\n",
    "    return c"
   ]
  },
  {
   "cell_type": "code",
   "execution_count": 5,
   "metadata": {},
   "outputs": [],
   "source": [
    "import json\n",
    "\n",
    "with open(\"demo.json\") as f:\n",
    "    data = json.load(f)"
   ]
  },
  {
   "cell_type": "code",
   "execution_count": 6,
   "metadata": {},
   "outputs": [
    {
     "name": "stdout",
     "output_type": "stream",
     "text": [
      "20\n"
     ]
    }
   ],
   "source": [
    "n_features = len(data[\"features\"])\n",
    "colors = n_colors(n_features)\n",
    "print(n_features)"
   ]
  },
  {
   "cell_type": "code",
   "execution_count": 7,
   "metadata": {},
   "outputs": [
    {
     "data": {
      "text/plain": [
       "['#f7fbff',\n",
       " '#edf4fc',\n",
       " '#e3eef8',\n",
       " '#d8e7f5',\n",
       " '#cee0f2',\n",
       " '#c2d9ee',\n",
       " '#b2d2e8',\n",
       " '#a0cbe2',\n",
       " '#8cc0dd',\n",
       " '#75b4d8',\n",
       " '#63a8d3',\n",
       " '#519ccc',\n",
       " '#4090c5',\n",
       " '#3282be',\n",
       " '#2474b7',\n",
       " '#1966ad',\n",
       " '#0e59a2',\n",
       " '#084b93',\n",
       " '#083d7f',\n",
       " '#08306b']"
      ]
     },
     "execution_count": 7,
     "metadata": {},
     "output_type": "execute_result"
    }
   ],
   "source": [
    "colors"
   ]
  },
  {
   "cell_type": "code",
   "execution_count": 8,
   "metadata": {},
   "outputs": [],
   "source": [
    "for feature, color in zip(data[\"features\"], colors):\n",
    "    feature[\"properties\"][\"style\"] = {\n",
    "        \"color\": color,\n",
    "        \"weight\": 1,\n",
    "        \"fillColor\": color,\n",
    "        \"fillOpacity\": 0.5,\n",
    "    }"
   ]
  },
  {
   "cell_type": "code",
   "execution_count": 9,
   "metadata": {},
   "outputs": [
    {
     "data": {
      "text/plain": [
       "{'geometry': {'type': 'MultiPolygon',\n",
       "  'coordinates': [[[[-77.39940577291571, 34.5780540544853],\n",
       "     [-77.39940610066606, 34.57805427015046],\n",
       "     [-77.39940640189788, 34.57805446836596],\n",
       "     [-77.39940680648922, 34.57805473459376],\n",
       "     [-77.39940687019617, 34.57805477651398],\n",
       "     [-77.39940689381065, 34.57805472199389],\n",
       "     [-77.3994073308358, 34.57805432604519],\n",
       "     [-77.39940731720131, 34.578054179242265],\n",
       "     [-77.39940728534575, 34.578053836252096],\n",
       "     [-77.39940728147378, 34.57805380828763],\n",
       "     [-77.39940726378504, 34.57805363205166],\n",
       "     [-77.39940725501071, 34.57805361742678],\n",
       "     [-77.39940719593868, 34.57805349818902],\n",
       "     [-77.39940711258689, 34.57805350039165],\n",
       "     [-77.39940706262787, 34.57805349996589],\n",
       "     [-77.3994070238417, 34.578053501157314],\n",
       "     [-77.39940689549977, 34.57805350509971],\n",
       "     [-77.3994068702403, 34.5780535173504],\n",
       "     [-77.39940683257294, 34.57805352755014],\n",
       "     [-77.39940665584797, 34.57805351246129],\n",
       "     [-77.39940650171212, 34.578053517196004],\n",
       "     [-77.39940646539253, 34.578053518311656],\n",
       "     [-77.39940610067742, 34.578053945657025]]]]},\n",
       " 'type': 'Feature',\n",
       " 'id': 'demo0',\n",
       " 'properties': {'style': {'color': '#f7fbff',\n",
       "   'weight': 1,\n",
       "   'fillColor': '#f7fbff',\n",
       "   'fillOpacity': 0.5}}}"
      ]
     },
     "execution_count": 9,
     "metadata": {},
     "output_type": "execute_result"
    }
   ],
   "source": [
    "data[\"features\"][0]"
   ]
  },
  {
   "cell_type": "code",
   "execution_count": 10,
   "metadata": {},
   "outputs": [],
   "source": [
    "g = GeoJSON(data=data)"
   ]
  },
  {
   "cell_type": "code",
   "execution_count": 11,
   "metadata": {},
   "outputs": [
    {
     "data": {
      "application/vnd.jupyter.widget-view+json": {
       "model_id": "594e135d041746348a6ccc40b703aebd",
       "version_major": 2,
       "version_minor": 0
      },
      "text/plain": [
       "Map(bottom=104367.0, center=[34.6252978589571, -77.34580993652344], controls=(ZoomControl(options=['position',…"
      ]
     },
     "execution_count": 11,
     "metadata": {},
     "output_type": "execute_result"
    }
   ],
   "source": [
    "m.add(g)"
   ]
  },
  {
   "cell_type": "code",
   "execution_count": null,
   "metadata": {},
   "outputs": [],
   "source": [
    "# m.remove_layer(g)"
   ]
  },
  {
   "cell_type": "code",
   "execution_count": null,
   "metadata": {},
   "outputs": [],
   "source": [
    "# g.close()"
   ]
  }
 ],
 "metadata": {
  "kernelspec": {
   "display_name": "Python 3 (ipykernel)",
   "language": "python",
   "name": "python3"
  },
  "language_info": {
   "codemirror_mode": {
    "name": "ipython",
    "version": 3
   },
   "file_extension": ".py",
   "mimetype": "text/x-python",
   "name": "python",
   "nbconvert_exporter": "python",
   "pygments_lexer": "ipython3",
   "version": "3.11.8"
  }
 },
 "nbformat": 4,
 "nbformat_minor": 4
}
