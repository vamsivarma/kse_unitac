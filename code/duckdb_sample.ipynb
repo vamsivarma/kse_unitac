{
 "cells": [
  {
   "cell_type": "code",
   "execution_count": 2,
   "id": "c30f9a62-25cb-4712-a846-b5afd74d7d63",
   "metadata": {},
   "outputs": [
    {
     "data": {
      "application/vnd.jupyter.widget-view+json": {
       "model_id": "9d80d9c94a0b45fdad4a067dae17c923",
       "version_major": 2,
       "version_minor": 0
      },
      "text/plain": [
       "FloatProgress(value=0.0, layout=Layout(width='auto'), style=ProgressStyle(bar_color='black'))"
      ]
     },
     "metadata": {},
     "output_type": "display_data"
    }
   ],
   "source": [
    "import duckdb\n",
    "\n",
    "con = duckdb.connect()\n",
    "\n",
    "con.sql(\"\"\"\n",
    "INSTALL spatial;\n",
    "LOAD spatial;\n",
    "\"\"\")"
   ]
  },
  {
   "cell_type": "code",
   "execution_count": null,
   "id": "eb660359-86cf-4bdc-a12a-a856c494f091",
   "metadata": {},
   "outputs": [],
   "source": [
    "# Saving GeoJSON to DuckDB"
   ]
  },
  {
   "cell_type": "code",
   "execution_count": 14,
   "id": "50e6bf91-67d2-4515-aaaa-41723bb91ec4",
   "metadata": {},
   "outputs": [
    {
     "data": {
      "application/vnd.jupyter.widget-view+json": {
       "model_id": "c81c1807f781447280f691bfc93ffdc2",
       "version_major": 2,
       "version_minor": 0
      },
      "text/plain": [
       "Map(center=[0, 0], controls=(ZoomControl(options=['position', 'zoom_in_text', 'zoom_in_title', 'zoom_out_text'…"
      ]
     },
     "execution_count": 14,
     "metadata": {},
     "output_type": "execute_result"
    }
   ],
   "source": [
    "import duckdb\n",
    "import geojson\n",
    "from ipyleaflet import Map, GeoJSON\n",
    "\n",
    "# Connect to DuckDB and create a table\n",
    "conn = duckdb.connect(':memory:')\n",
    "conn.execute(\"CREATE TABLE geojson_data (id INTEGER PRIMARY KEY, geojson_str STRING)\")\n",
    "\n",
    "# Function to insert GeoJSON data into DuckDB\n",
    "def insert_geojson(geojson_id, geojson_data):\n",
    "    geojson_str = geojson.dumps(geojson_data)\n",
    "    conn.execute(\"INSERT INTO geojson_data VALUES (?, ?)\", (geojson_id, geojson_str))\n",
    "\n",
    "# Function to retrieve GeoJSON data from DuckDB\n",
    "def retrieve_geojson():\n",
    "    result = conn.execute(\"SELECT geojson_str FROM geojson_data\")\n",
    "    for row in result.fetchall():\n",
    "        geojson_str = row[0]\n",
    "        geojson_data = geojson.loads(geojson_str)\n",
    "        yield geojson_data\n",
    "\n",
    "# Read GeoJSON from file\n",
    "def read_geojson_file(file_path):\n",
    "    with open(file_path, 'r') as file:\n",
    "        geojson_data = geojson.load(file)\n",
    "    return geojson_data\n",
    "\n",
    "# Example GeoJSON file path\n",
    "geojson_file_path = 'data/input_data/input_data/geospatial/geo_survey_OMBILI.geojson'\n",
    "\n",
    "# Read GeoJSON data from file\n",
    "example_geojson = read_geojson_file(geojson_file_path)\n",
    "\n",
    "# Insert GeoJSON data into DuckDB\n",
    "insert_geojson(1, example_geojson)\n",
    "\n",
    "# Create a map\n",
    "m = Map(center=(0, 0), zoom=2)\n",
    "\n",
    "# Retrieve GeoJSON data from DuckDB and display it on the map\n",
    "for geojson_data in retrieve_geojson():\n",
    "    geojson_layer = GeoJSON(data=geojson_data)\n",
    "    m.add_layer(geojson_layer)\n",
    "\n",
    "# Display the map\n",
    "m\n"
   ]
  },
  {
   "cell_type": "code",
   "execution_count": null,
   "id": "9c712b30-1add-47ae-9da2-eb0b36eebafe",
   "metadata": {},
   "outputs": [],
   "source": [
    "# Saving SHP file to DuckDB"
   ]
  },
  {
   "cell_type": "code",
   "execution_count": 4,
   "id": "506d471e-2bec-437f-9753-8d7bd524a885",
   "metadata": {},
   "outputs": [
    {
     "data": {
      "application/vnd.jupyter.widget-view+json": {
       "model_id": "fe74ab08f9234f3fbe0088b29f53b29b",
       "version_major": 2,
       "version_minor": 0
      },
      "text/plain": [
       "Map(center=[0, 0], controls=(ZoomControl(options=['position', 'zoom_in_text', 'zoom_in_title', 'zoom_out_text'…"
      ]
     },
     "execution_count": 4,
     "metadata": {},
     "output_type": "execute_result"
    }
   ],
   "source": [
    "import duckdb\n",
    "import geopandas as gpd\n",
    "import geojson\n",
    "from ipyleaflet import Map, GeoJSON\n",
    "\n",
    "# Connect to DuckDB and create a table\n",
    "conn = duckdb.connect(':memory:')\n",
    "conn.execute(\"CREATE TABLE geojson_data (id INTEGER PRIMARY KEY, geojson_str STRING)\")\n",
    "\n",
    "# Function to insert GeoJSON data into DuckDB\n",
    "def insert_geojson(geojson_id, geojson_data):\n",
    "    geojson_str = geojson.dumps(geojson_data)\n",
    "    conn.execute(\"INSERT INTO geojson_data VALUES (?, ?)\", (geojson_id, geojson_str))\n",
    "\n",
    "# Function to retrieve GeoJSON data from DuckDB\n",
    "def retrieve_geojson():\n",
    "    result = conn.execute(\"SELECT geojson_str FROM geojson_data\")\n",
    "    for row in result.fetchall():\n",
    "        geojson_str = row[0]\n",
    "        geojson_data = geojson.loads(geojson_str)\n",
    "        yield geojson_data\n",
    "\n",
    "# Read Shapefile and convert to GeoJSON\n",
    "def read_shapefile(file_path):\n",
    "    gdf = gpd.read_file(file_path)\n",
    "    # Convert GeoDataFrame to GeoJSON\n",
    "    geojson_data = gdf.__geo_interface__\n",
    "    return geojson_data\n",
    "\n",
    "# Example Shapefile path\n",
    "shapefile_path = \"data/input_data/input_data/geospatial/Ombili.shp\"\n",
    "\n",
    "# Read Shapefile and convert to GeoJSON\n",
    "example_geojson = read_shapefile(shapefile_path)\n",
    "\n",
    "# Insert GeoJSON data into DuckDB\n",
    "insert_geojson(1, example_geojson)\n",
    "\n",
    "# Create a map\n",
    "m = Map(center=(0, 0), zoom=2)\n",
    "\n",
    "# Retrieve GeoJSON data from DuckDB and display it on the map\n",
    "for geojson_data in retrieve_geojson():\n",
    "    geojson_layer = GeoJSON(data=geojson_data)\n",
    "    m.add_layer(geojson_layer)\n",
    "\n",
    "# Display the map\n",
    "m\n"
   ]
  },
  {
   "cell_type": "code",
   "execution_count": 5,
   "id": "0c1aae8c-f1c8-402d-b1c8-e8a32fde22e6",
   "metadata": {},
   "outputs": [
    {
     "data": {
      "application/vnd.jupyter.widget-view+json": {
       "model_id": "f8e9d6c1ce3d4af9bb3d2d2ad0ef62c9",
       "version_major": 2,
       "version_minor": 0
      },
      "text/plain": [
       "Map(center=[0, 0], controls=(ZoomControl(options=['position', 'zoom_in_text', 'zoom_in_title', 'zoom_out_text'…"
      ]
     },
     "execution_count": 5,
     "metadata": {},
     "output_type": "execute_result"
    }
   ],
   "source": [
    "import duckdb\n",
    "import geopandas as gpd\n",
    "from shapely import wkb\n",
    "from ipyleaflet import Map, GeoJSON\n",
    "\n",
    "# Connect to DuckDB and create a table\n",
    "conn = duckdb.connect(':memory:')\n",
    "conn.execute(\"CREATE TABLE shapefile_data (id INTEGER PRIMARY KEY, geometry BLOB, attributes STRING)\")\n",
    "\n",
    "# Function to insert Shapefile data into DuckDB\n",
    "def insert_shapefile(gdf):\n",
    "    for index, row in gdf.iterrows():\n",
    "        geom_bytes = row.geometry.wkb\n",
    "        attributes = str(row.drop('geometry').to_dict())\n",
    "        conn.execute(\"INSERT INTO shapefile_data VALUES (?, ?, ?)\", (index, geom_bytes, attributes))\n",
    "\n",
    "# Function to retrieve Shapefile data from DuckDB\n",
    "def retrieve_shapefile():\n",
    "    result = conn.execute(\"SELECT id, geometry, attributes FROM shapefile_data\")\n",
    "    for row in result.fetchall():\n",
    "        id = row[0]\n",
    "        geom_bytes = row[1]\n",
    "        attributes = row[2]\n",
    "        geometry = wkb.loads(geom_bytes)\n",
    "        yield id, geometry, attributes\n",
    "\n",
    "# Example Shapefile path\n",
    "shapefile_path = \"data/input_data/input_data/geospatial/Ombili.shp\"\n",
    "\n",
    "# Read Shapefile\n",
    "gdf = gpd.read_file(shapefile_path)\n",
    "\n",
    "# Insert Shapefile data into DuckDB\n",
    "insert_shapefile(gdf)\n",
    "\n",
    "# Create a map\n",
    "m = Map(center=(0, 0), zoom=2)\n",
    "\n",
    "# Retrieve Shapefile data from DuckDB and display it on the map\n",
    "for id, geometry, attributes in retrieve_shapefile():\n",
    "    geojson_layer = GeoJSON(data={\n",
    "        \"type\": \"Feature\",\n",
    "        \"geometry\": geometry.__geo_interface__,\n",
    "        \"properties\": {\"id\": id, \"attributes\": attributes}\n",
    "    })\n",
    "    m.add_layer(geojson_layer)\n",
    "\n",
    "# Display the map\n",
    "m\n"
   ]
  },
  {
   "cell_type": "code",
   "execution_count": null,
   "id": "3fbc42fc-5dd3-4c51-9cba-4db20eb94251",
   "metadata": {},
   "outputs": [],
   "source": []
  }
 ],
 "metadata": {
  "kernelspec": {
   "display_name": "Python 3 (ipykernel)",
   "language": "python",
   "name": "python3"
  },
  "language_info": {
   "codemirror_mode": {
    "name": "ipython",
    "version": 3
   },
   "file_extension": ".py",
   "mimetype": "text/x-python",
   "name": "python",
   "nbconvert_exporter": "python",
   "pygments_lexer": "ipython3",
   "version": "3.11.8"
  }
 },
 "nbformat": 4,
 "nbformat_minor": 5
}
