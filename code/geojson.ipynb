{
 "cells": [
  {
   "cell_type": "code",
   "execution_count": 1,
   "id": "494980df-fece-41c7-bf2a-4d21a852debd",
   "metadata": {},
   "outputs": [
    {
     "data": {
      "application/geo+json": {
       "geometry": {
        "coordinates": [
         -118.4563712,
         34.0163116
        ],
        "type": "Point"
       },
       "type": "Feature"
      },
      "text/plain": [
       "<IPython.display.GeoJSON object>"
      ]
     },
     "metadata": {
      "application/geo+json": {
       "expanded": false,
       "root": "root"
      }
     },
     "output_type": "display_data"
    }
   ],
   "source": [
    "#%%inline\n",
    "\n",
    "from IPython.display import GeoJSON, display\n",
    "from IPython.display import display\n",
    "\n",
    "m = GeoJSON({\n",
    "    \"type\": \"Feature\",\n",
    "    \"geometry\": {\n",
    "        \"type\": \"Point\",\n",
    "        \"coordinates\": [-118.4563712, 34.0163116]\n",
    "    }\n",
    "})\n",
    "\n",
    "display(m)"
   ]
  },
  {
   "cell_type": "code",
   "execution_count": 2,
   "id": "e7d2abd8-0dfc-4799-8eba-5307bed92071",
   "metadata": {},
   "outputs": [],
   "source": [
    "\n",
    "m2 = GeoJSON(\n",
    "    data={\n",
    "        \"type\": \"Feature\",\n",
    "        \"geometry\": {\n",
    "            \"type\": \"Point\",\n",
    "            \"coordinates\": [-118.4563712, 34.0163116]\n",
    "        }\n",
    "    }, url_template=\"https://api.tiles.mapbox.com/v4/{id}/{z}/{x}/{y}.png?access_token=[MAPBOX_ACCESS_TOKEN]\",\n",
    "    layer_options={\n",
    "        \"id\": \"mapbox.streets\",\n",
    "        \"attribution\" : '&copy; <a href=\"https://www.openstreetmap.org/copyright\">OpenStreetMap</a>'\n",
    "    }\n",
    ")"
   ]
  },
  {
   "cell_type": "code",
   "execution_count": 20,
   "id": "d81c5d87-4a5e-4236-bdfd-2d7a8cf265ca",
   "metadata": {},
   "outputs": [
    {
     "data": {
      "application/geo+json": {
       "geometry": {
        "coordinates": [
         -118.4563712,
         34.0163116
        ],
        "type": "Point"
       },
       "type": "Feature"
      },
      "text/plain": [
       "<IPython.display.GeoJSON object>"
      ]
     },
     "metadata": {
      "application/geo+json": {
       "expanded": false,
       "layer_options": {
        "attribution": "&copy; <a href=\"https://www.openstreetmap.org/copyright\">OpenStreetMap</a>",
        "id": "mapbox.streets"
       },
       "root": "root",
       "url_template": "https://api.tiles.mapbox.com/v4/{id}/{z}/{x}/{y}.png?access_token=[MAPBOX_ACCESS_TOKEN]"
      }
     },
     "output_type": "display_data"
    }
   ],
   "source": [
    "display(m2)"
   ]
  },
  {
   "cell_type": "code",
   "execution_count": null,
   "id": "f283b6e0-33a2-410e-8e4c-2c31fb65d72f",
   "metadata": {},
   "outputs": [],
   "source": []
  }
 ],
 "metadata": {
  "kernelspec": {
   "display_name": "Python 3 (ipykernel)",
   "language": "python",
   "name": "python3"
  },
  "language_info": {
   "codemirror_mode": {
    "name": "ipython",
    "version": 3
   },
   "file_extension": ".py",
   "mimetype": "text/x-python",
   "name": "python",
   "nbconvert_exporter": "python",
   "pygments_lexer": "ipython3",
   "version": "3.11.8"
  }
 },
 "nbformat": 4,
 "nbformat_minor": 5
}
