{
 "cells": [
  {
   "cell_type": "code",
   "execution_count": 1,
   "id": "24ae3eb1-ca76-4c90-9349-38c3d0737d05",
   "metadata": {},
   "outputs": [],
   "source": [
    "import ipyleaflet as ipy\n",
    "import geopandas\n",
    "import json"
   ]
  },
  {
   "cell_type": "code",
   "execution_count": null,
   "id": "4a1d1aa3-7b2a-47f5-90e5-84c055f639a3",
   "metadata": {},
   "outputs": [],
   "source": [
    "# Code references\n",
    "https://github.com/jupyter-widgets/ipyleaflet/blob/master/examples/GeoData.ipynb\n",
    "https://github.com/keplergl/kepler.gl/tree/master/bindings/kepler.gl-jupyter/notebooks"
   ]
  },
  {
   "cell_type": "code",
   "execution_count": 2,
   "id": "d1c5c4e9-1603-4574-9b0b-5f1cb3640301",
   "metadata": {},
   "outputs": [],
   "source": [
    "from ipyleaflet import *"
   ]
  },
  {
   "cell_type": "code",
   "execution_count": 3,
   "id": "ceb73282-fb34-469b-b90c-f18b0665cb71",
   "metadata": {},
   "outputs": [],
   "source": [
    "m = Map(center=(52, 10), zoom=8, basemap=basemaps.OpenStreetMap.Mapnik)"
   ]
  },
  {
   "cell_type": "code",
   "execution_count": 4,
   "id": "3e816617-65d5-4bd3-a8d8-fdd41e21b5ad",
   "metadata": {},
   "outputs": [
    {
     "data": {
      "application/vnd.jupyter.widget-view+json": {
       "model_id": "a92729c468fe4768b7515601f1ab8f86",
       "version_major": 2,
       "version_minor": 0
      },
      "text/plain": [
       "Map(center=[52, 10], controls=(ZoomControl(options=['position', 'zoom_in_text', 'zoom_in_title', 'zoom_out_tex…"
      ]
     },
     "execution_count": 4,
     "metadata": {},
     "output_type": "execute_result"
    }
   ],
   "source": [
    "m"
   ]
  },
  {
   "cell_type": "code",
   "execution_count": 4,
   "id": "809f3ffa-7ac8-4864-bf3e-96a9dd597eff",
   "metadata": {},
   "outputs": [
    {
     "data": {
      "text/plain": [
       "['BZH', 'BlackAndWhite', 'CH', 'DE', 'France', 'HOT', 'Mapnik']"
      ]
     },
     "execution_count": 4,
     "metadata": {},
     "output_type": "execute_result"
    }
   ],
   "source": [
    "dir(basemaps.OpenStreetMap)"
   ]
  },
  {
   "cell_type": "code",
   "execution_count": 5,
   "id": "a023313a-d7c8-48cc-b61e-26d57ed48fbb",
   "metadata": {},
   "outputs": [],
   "source": [
    "m1 = Map(center=(52, 10), zoom=8, basemap=basemaps.OpenStreetMap.France)"
   ]
  },
  {
   "cell_type": "code",
   "execution_count": 6,
   "id": "b921ba3a-f6b5-41a1-89ab-0db31c797b9b",
   "metadata": {},
   "outputs": [
    {
     "data": {
      "application/vnd.jupyter.widget-view+json": {
       "model_id": "c419f66575a64342afd270e6cb9a8da2",
       "version_major": 2,
       "version_minor": 0
      },
      "text/plain": [
       "Map(center=[52, 10], controls=(ZoomControl(options=['position', 'zoom_in_text', 'zoom_in_title', 'zoom_out_tex…"
      ]
     },
     "execution_count": 6,
     "metadata": {},
     "output_type": "execute_result"
    }
   ],
   "source": [
    "m1"
   ]
  },
  {
   "cell_type": "code",
   "execution_count": 7,
   "id": "9044fbaf-bfd0-414e-9b0e-6d9c91b6a76b",
   "metadata": {},
   "outputs": [
    {
     "data": {
      "application/vnd.jupyter.widget-view+json": {
       "model_id": "6873aae8a2df44ec99c73ae909d29bed",
       "version_major": 2,
       "version_minor": 0
      },
      "text/plain": [
       "Map(center=[52, 10], controls=(ZoomControl(options=['position', 'zoom_in_text', 'zoom_in_title', 'zoom_out_tex…"
      ]
     },
     "execution_count": 7,
     "metadata": {},
     "output_type": "execute_result"
    }
   ],
   "source": [
    "Map(center=(52, 10), zoom=8, basemap=basemaps.OpenStreetMap.BZH)"
   ]
  },
  {
   "cell_type": "code",
   "execution_count": 10,
   "id": "02705380-705c-4f85-8736-07a03b40b9f0",
   "metadata": {},
   "outputs": [
    {
     "data": {
      "application/vnd.jupyter.widget-view+json": {
       "model_id": "5f03ac791b24406583f83e33442ed01e",
       "version_major": 2,
       "version_minor": 0
      },
      "text/plain": [
       "Map(center=[52, 10], controls=(ZoomControl(options=['position', 'zoom_in_text', 'zoom_in_title', 'zoom_out_tex…"
      ]
     },
     "execution_count": 10,
     "metadata": {},
     "output_type": "execute_result"
    }
   ],
   "source": [
    "Map(center=(52, 10), zoom=8, basemap=basemaps.OpenStreetMap.DE)"
   ]
  },
  {
   "cell_type": "code",
   "execution_count": 12,
   "id": "c7e45d10-2dd8-4aa2-b02a-ac7cf681f46a",
   "metadata": {},
   "outputs": [
    {
     "data": {
      "text/plain": [
       "['AntarcticBasemap',\n",
       " 'AntarcticImagery',\n",
       " 'ArcticImagery',\n",
       " 'ArcticOceanBase',\n",
       " 'ArcticOceanReference',\n",
       " 'DeLorme',\n",
       " 'NatGeoWorldMap',\n",
       " 'OceanBasemap',\n",
       " 'WorldGrayCanvas',\n",
       " 'WorldImagery',\n",
       " 'WorldPhysical',\n",
       " 'WorldShadedRelief',\n",
       " 'WorldStreetMap',\n",
       " 'WorldTerrain',\n",
       " 'WorldTopoMap']"
      ]
     },
     "execution_count": 12,
     "metadata": {},
     "output_type": "execute_result"
    }
   ],
   "source": [
    "dir(basemaps.Esri)"
   ]
  },
  {
   "cell_type": "code",
   "execution_count": null,
   "id": "205c7d14-e8b0-4ffe-b4b9-6c974f55a994",
   "metadata": {},
   "outputs": [],
   "source": []
  }
 ],
 "metadata": {
  "kernelspec": {
   "display_name": "Python 3 (ipykernel)",
   "language": "python",
   "name": "python3"
  },
  "language_info": {
   "codemirror_mode": {
    "name": "ipython",
    "version": 3
   },
   "file_extension": ".py",
   "mimetype": "text/x-python",
   "name": "python",
   "nbconvert_exporter": "python",
   "pygments_lexer": "ipython3",
   "version": "3.11.8"
  }
 },
 "nbformat": 4,
 "nbformat_minor": 5
}
